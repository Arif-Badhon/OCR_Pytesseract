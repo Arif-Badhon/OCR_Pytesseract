{
  "cells": [
    {
      "cell_type": "markdown",
      "id": "aae091e5",
      "metadata": {
        "id": "aae091e5"
      },
      "source": [
        "<center>\n",
        "    <u><h2>Image Text Extraction With Pytesseract</h2></u>\n",
        "</center>"
      ]
    },
    {
      "cell_type": "markdown",
      "id": "e9c71274",
      "metadata": {
        "id": "e9c71274"
      },
      "source": [
        "<h3>What is the Tesseract?</h3>\n",
        "\n",
        "<p>Tesseract is an Optical Character Recognition tool (OCR) which can be used to extract written text from different types image files. This was originally designed and developed by the <b>Google</b>. Image text extraction can be used by both of the ways; using command terminal and api implementations. </p>\n",
        "\n",
        "<p>Tesseract has unicode (UTF-8) support and can recognize more than <b>100 languages</b>.</p>\n",
        "\n",
        "<p>Tesseract support various kind of output formats such as: <b>plain text</b>, <b>HTML</b>, <b>PDF</b>, <b>TSV</b>, <b>XML</b>.</p> \n",
        "\n",
        "<p>Accuracy and integrity of the output from tesseract is totally depends on the <u>quality of input image</u></p>\n",
        "\n",
        "<h3>How to install Tesseract?</h3>\n",
        "\n",
        "<ol>\n",
        "    <li>Download and install the relevant binary for your operating system <a href='https://github.com/tesseract-ocr/tessdoc#500x'>here.</a></li>\n",
        "    <li>Add the installed location reference in to the PATH. <b>eg. </b><i>C:\\Program Files\\Tesseract-OCR.</i></li>\n",
        "    <li>Type command <span style=\"background-color: lightblue;\">tesseract</span> and check about the status of your installation.</li>\n",
        "</ol>\n",
        "\n",
        "<h3>What is the Pytesseract?</h3>\n",
        "\n",
        "<p>Python tesseract (pytesseract) is a wrapper module for tesseract-OCR-engine developed by the Google. Pytesseract can be installed in to your computer, if you have installed any python version greater than or equal to 3.0. Whenever you have installed tesseract, simply install this 3<sup>rd</sup> party module by a simple pip command and play around!</p>\n",
        "\n",
        "<h3>How to install Pytesseract?</h3>\n",
        "\n",
        "<ol>\n",
        "    <li>Type command <span style=\"background-color: lightblue;\">pip install pytesseract</span> and let it to be installed.</li>\n",
        "    <li>Then open your python shell and type  <span style=\"background-color: lightblue;\">import pytesseract</span> and check about the status of pytesseract installation.</li>\n",
        "</ol>"
      ]
    },
    {
      "cell_type": "markdown",
      "id": "cb5d3dad",
      "metadata": {
        "id": "cb5d3dad"
      },
      "source": [
        "<u>\n",
        "<h4>Import modules</h4>\n",
        "</u>"
      ]
    },
    {
      "cell_type": "code",
      "execution_count": 2,
      "id": "7867b5dc",
      "metadata": {
        "colab": {
          "base_uri": "https://localhost:8080/",
          "height": 339
        },
        "id": "7867b5dc",
        "outputId": "28991046-66cf-4819-8149-f1516927d8be"
      },
      "outputs": [],
      "source": [
        "import os # To import test image files\n",
        "import cv2 # To work with opencv images\n",
        "from PIL import Image # Image submodule to work with pillow images\n",
        "import pytesseract as pt # pytesseract module"
      ]
    },
    {
      "cell_type": "code",
      "execution_count": 3,
      "id": "e54d216f",
      "metadata": {
        "id": "e54d216f"
      },
      "outputs": [
        {
          "name": "stdout",
          "output_type": "stream",
          "text": [
            "1.jpeg\n",
            "2.jpeg\n",
            "WhatsApp Image 2022-03-05 at 4.39.10 PM.jpeg\n",
            "WhatsApp Image 2022-03-05 at 4.39.11 PM.jpeg\n",
            "WhatsApp Image 2022-03-05 at 4.39.12 PM.jpeg\n",
            "WhatsApp Image 2022-03-05 at 4.39.13 PM.jpeg\n",
            "WhatsApp Image 2022-03-05 at 4.39.14 PM.jpeg\n",
            "WhatsApp Image 2022-03-05 at 4.39.15 PM.jpeg\n",
            "WhatsApp Image 2022-03-05 at 4.39.16 PM.jpeg\n",
            "WhatsApp Image 2022-03-05 at 4.39.19 PM.jpeg\n",
            "WhatsApp Image 2022-03-05 at 4.39.20 PM.jpeg\n",
            "WhatsApp Image 2022-03-05 at 4.39.21 PM.jpeg\n",
            "WhatsApp Image 2022-03-05 at 4.39.22 PM.jpeg\n",
            "WhatsApp Image 2022-03-05 at 4.46.18 PM.jpeg\n",
            "WhatsApp Image 2022-03-05 at 4.46.19 PM (1).jpeg\n",
            "WhatsApp Image 2022-03-05 at 4.46.19 PM.jpeg\n",
            "WhatsApp Image 2022-03-05 at 4.46.20 PM (1).jpeg\n",
            "WhatsApp Image 2022-03-05 at 4.46.20 PM (2).jpeg\n",
            "WhatsApp Image 2022-03-05 at 4.46.20 PM.jpeg\n",
            "WhatsApp Image 2022-03-05 at 4.46.21 PM (1).jpeg\n",
            "WhatsApp Image 2022-03-05 at 4.46.21 PM.jpeg\n",
            "WhatsApp Image 2022-03-05 at 4.46.23 PM.jpeg\n",
            "WhatsApp Image 2022-03-05 at 4.46.24 PM.jpeg\n",
            "WhatsApp Image 2022-03-05 at 4.46.13 PM.jpeg\n",
            "WhatsApp Image 2022-03-05 at 4.46.14 PM (1).jpeg\n",
            "WhatsApp Image 2022-03-05 at 4.46.14 PM (2).jpeg\n",
            "WhatsApp Image 2022-03-05 at 4.46.14 PM.jpeg\n",
            "WhatsApp Image 2022-03-05 at 4.46.15 PM (1).jpeg\n",
            "WhatsApp Image 2022-03-05 at 4.46.15 PM.jpeg\n",
            "WhatsApp Image 2022-03-05 at 4.46.16 PM (1).jpeg\n",
            "WhatsApp Image 2022-03-05 at 4.46.16 PM.jpeg\n",
            "WhatsApp Image 2022-03-05 at 4.46.17 PM (1).jpeg\n",
            "WhatsApp Image 2022-03-05 at 4.46.17 PM (2).jpeg\n",
            "WhatsApp Image 2022-03-05 at 4.39.24 PM.jpeg\n",
            "WhatsApp Image 2022-03-05 at 4.41.42 PM.jpeg\n",
            "WhatsApp Image 2022-03-05 at 4.46.08 PM.jpeg\n",
            "WhatsApp Image 2022-03-05 at 4.46.13 PM (2).jpeg\n",
            "WhatsApp Image 2022-03-05 at 4.46.17 PM.jpeg\n",
            "WhatsApp Image 2022-03-05 at 4.46.09 PM (1).jpeg\n",
            "WhatsApp Image 2022-03-05 at 4.46.09 PM.jpeg\n",
            "WhatsApp Image 2022-03-05 at 4.46.10 PM (1).jpeg\n",
            "WhatsApp Image 2022-03-05 at 4.46.10 PM.jpeg\n",
            "WhatsApp Image 2022-03-05 at 4.46.11 PM (1).jpeg\n",
            "WhatsApp Image 2022-03-05 at 4.46.11 PM (2).jpeg\n",
            "WhatsApp Image 2022-03-05 at 4.46.11 PM.jpeg\n",
            "WhatsApp Image 2022-03-05 at 4.46.12 PM (1).jpeg\n",
            "WhatsApp Image 2022-03-05 at 4.46.12 PM.jpeg\n",
            "WhatsApp Image 2022-03-05 at 4.46.13 PM (1).jpeg\n",
            "WhatsApp Image 2022-03-05 at 4.42.00 PM.jpeg\n",
            "WhatsApp Image 2022-03-05 at 4.42.01 PM.jpeg\n",
            "WhatsApp Image 2022-03-05 at 4.42.02 PM.jpeg\n",
            "WhatsApp Image 2022-03-05 at 4.42.03 PM.jpeg\n",
            "WhatsApp Image 2022-03-05 at 4.46.06 PM.jpeg\n",
            "WhatsApp Image 2022-03-05 at 4.46.07 PM (1).jpeg\n",
            "WhatsApp Image 2022-03-05 at 4.46.07 PM (2).jpeg\n",
            "WhatsApp Image 2022-03-05 at 4.46.07 PM.jpeg\n",
            "WhatsApp Image 2022-03-05 at 4.46.08 PM (1).jpeg\n",
            "WhatsApp Image 2022-03-05 at 4.46.08 PM (2).jpeg\n",
            "WhatsApp Image 2022-03-05 at 4.39.25 PM.jpeg\n",
            "WhatsApp Image 2022-03-05 at 4.39.26 PM.jpeg\n",
            "WhatsApp Image 2022-03-05 at 4.39.27 PM.jpeg\n",
            "WhatsApp Image 2022-03-05 at 4.39.28 PM.jpeg\n",
            "WhatsApp Image 2022-03-05 at 4.39.29 PM.jpeg\n",
            "WhatsApp Image 2022-03-05 at 4.39.31 PM.jpeg\n",
            "WhatsApp Image 2022-03-05 at 4.39.32 PM.jpeg\n",
            "WhatsApp Image 2022-03-05 at 4.39.33 PM.jpeg\n",
            "WhatsApp Image 2022-03-05 at 4.41.40 PM (1).jpeg\n",
            "WhatsApp Image 2022-03-05 at 4.41.40 PM.jpeg\n",
            "WhatsApp Image 2022-03-05 at 4.41.42 PM (1).jpeg\n"
          ]
        }
      ],
      "source": [
        "test_img_path = \"/media/badhon/Working_Data/Project/Document_to_Text/Another Example/Images/\"\n",
        "create_path = lambda f : os.path.join(test_img_path, f)\n",
        "\n",
        "test_image_files = os.listdir(test_img_path)\n",
        "\n",
        "for f in test_image_files:\n",
        "    print(f)"
      ]
    },
    {
      "cell_type": "code",
      "execution_count": 4,
      "id": "27e88dec",
      "metadata": {
        "id": "27e88dec"
      },
      "outputs": [],
      "source": [
        "def show_image(img_path, size=(500, 500)):\n",
        "    image = cv2.imread(img_path)\n",
        "    image = cv2.resize(image, size)\n",
        "    \n",
        "    cv2.imshow(\"IMAGE\", image)\n",
        "    cv2.waitKey(0)\n",
        "    cv2.destroyAllWindows()"
      ]
    },
    {
      "cell_type": "markdown",
      "id": "64201ca9",
      "metadata": {
        "id": "64201ca9"
      },
      "source": [
        "<u>\n",
        "<h4>Configure tesseract path in implementations (No need to add in to the PATH explicitly)</h4>\n",
        "</u>"
      ]
    },
    {
      "cell_type": "code",
      "execution_count": null,
      "id": "1fa4ba38",
      "metadata": {
        "id": "1fa4ba38"
      },
      "outputs": [],
      "source": [
        "# optional: only if you haven't configured PATH\n",
        "pt.pytesseract.tesseract_cmd = r\"C:\\Program Files\\Tesseract-OCR\\tesseract.exe\" # provide full path to tesseract.exe"
      ]
    },
    {
      "cell_type": "markdown",
      "id": "2d124a42",
      "metadata": {
        "id": "2d124a42"
      },
      "source": [
        "<u>\n",
        "<h4>Checkout available languages</h4>\n",
        "</u>\n",
        "<p>Check out <a href='https://tesseract-ocr.github.io/tessdoc/Data-Files-in-different-versions.html'>here</a> to learn about languages and their codes available in tesseract.</p>\n"
      ]
    },
    {
      "cell_type": "code",
      "execution_count": 5,
      "id": "61caf321",
      "metadata": {
        "id": "61caf321"
      },
      "outputs": [
        {
          "name": "stdout",
          "output_type": "stream",
          "text": [
            "eng\n",
            "osd\n"
          ]
        }
      ],
      "source": [
        "# using cmd: tesseract --list-langs\n",
        "avb_langs = pt.get_languages(config='')\n",
        "\n",
        "for lang in avb_langs:\n",
        "    print(lang)"
      ]
    },
    {
      "cell_type": "markdown",
      "id": "68b8f663",
      "metadata": {
        "id": "68b8f663"
      },
      "source": [
        "<u>\n",
        "<h4>Extract text from an image : Simple</h4>\n",
        "</u>"
      ]
    },
    {
      "cell_type": "code",
      "execution_count": 6,
      "id": "b0e6c8f7",
      "metadata": {
        "id": "b0e6c8f7"
      },
      "outputs": [
        {
          "name": "stdout",
          "output_type": "stream",
          "text": [
            "‘ 7\n",
            "\n",
            "aw\n",
            "@ DUTCH BANGLA BANK\n",
            "nasi Susan\n",
            "\n",
            "Transaction Sum Be .\n",
            "Cust tereaor | enterprise\n",
            "ustomer 1 094643\n",
            "\n",
            " \n",
            "\n",
            "Transaction Type: Fund Transfer po- 12731\n",
            "Transaction ID : 102674119\n",
            "\n",
            "Date : December 02, 2021\n",
            "Initiator : 01711486765\n",
            "\n",
            "From Account : 7017512561124\n",
            "Account Name : MD.FAZLERABBI\n",
            "\n",
            "To Account : 1031100022462\n",
            "Account Name : RICECO INTERNATIONAL\n",
            "Amount : 27076.0\n",
            "\n",
            "Fee 2 54.15\n",
            "\n",
            "Generated Time = 2021/12/02 14:40:55\n",
            "\n",
            "Teller Signature Customer Signature\n",
            "\n",
            "This is a system generated report of DBBL\n",
            "\f\n"
          ]
        }
      ],
      "source": [
        "image_path = test_image_files[1] # 2, 3, 12, 1, 13, 15\n",
        "path = create_path(image_path)\n",
        "\n",
        "image = Image.open(path)\n",
        "text = pt.image_to_string(image)\n",
        "\n",
        "print(text)\n",
        "show_image(path)"
      ]
    },
    {
      "cell_type": "markdown",
      "id": "b4ad784b",
      "metadata": {
        "id": "b4ad784b"
      },
      "source": [
        "<u>\n",
        "    <h4>Extract text from an image : Specifying a language</h4>\n",
        "</u>\n",
        "<p>Check out <a href='https://github.com/tesseract-ocr/tessdata/tree/3.04.00'>here</a> to download different language data files.</p>"
      ]
    },
    {
      "cell_type": "code",
      "execution_count": null,
      "id": "d067c55b",
      "metadata": {
        "id": "d067c55b"
      },
      "outputs": [],
      "source": [
        "path = create_path(\"portu-text-2.jpg\")\n",
        "\n",
        "image = Image.open(path)\n",
        "text = pt.image_to_string(image, lang='por')\n",
        "\n",
        "print(text)\n",
        "show_image(path)"
      ]
    },
    {
      "cell_type": "markdown",
      "id": "f082ed63",
      "metadata": {
        "id": "f082ed63"
      },
      "source": [
        "<u>\n",
        "    <h4>Extract text from an image : Multiple images once</h4>\n",
        "</u>"
      ]
    },
    {
      "cell_type": "code",
      "execution_count": null,
      "id": "0fd79b00",
      "metadata": {
        "id": "0fd79b00"
      },
      "outputs": [],
      "source": [
        "img_name_txt_file = \"../test images/image-paths.txt\"\n",
        "text = pt.image_to_string(img_name_txt_file, lang='jpn')\n",
        "\n",
        "print(text)"
      ]
    },
    {
      "cell_type": "markdown",
      "id": "482cde39",
      "metadata": {
        "id": "482cde39"
      },
      "source": [
        "<u>\n",
        "    <h4>Extract text from an image : Timeout extraction</h4>\n",
        "</u>"
      ]
    },
    {
      "cell_type": "code",
      "execution_count": null,
      "id": "d1ea3e2e",
      "metadata": {
        "id": "d1ea3e2e"
      },
      "outputs": [],
      "source": [
        "path = create_path(\"news-2.jpg\")\n",
        "\n",
        "image = Image.open(path)\n",
        "text = 'NO TEXT TO BE APPEARED'\n",
        "\n",
        "try:\n",
        "    text = pt.image_to_string(image, lang='eng', timeout=5)\n",
        "except RuntimeError as timeout_error:\n",
        "    print(\"[TIMEOUT ERROR]\")\n",
        "\n",
        "print(text)\n",
        "show_image(path)"
      ]
    },
    {
      "cell_type": "markdown",
      "id": "bd2d94ff",
      "metadata": {
        "id": "bd2d94ff"
      },
      "source": [
        "<u>\n",
        "    <h4>Get bounding box estimates</h4>\n",
        "</u>"
      ]
    },
    {
      "cell_type": "code",
      "execution_count": null,
      "id": "d00b69e9",
      "metadata": {
        "id": "d00b69e9",
        "scrolled": true
      },
      "outputs": [],
      "source": [
        "path = create_path(\"jap-text-1.png\")\n",
        "\n",
        "image = Image.open(path)\n",
        "bound_rects = pt.image_to_boxes(image, lang='jpn')\n",
        "\n",
        "print(bound_rects)\n",
        "show_image(path)"
      ]
    },
    {
      "cell_type": "code",
      "execution_count": null,
      "id": "b62ca31f",
      "metadata": {
        "id": "b62ca31f"
      },
      "outputs": [],
      "source": [
        "img = cv2.imread(path)\n",
        "h, _, _ = img.shape\n",
        "\n",
        "for b in bound_rects.splitlines():\n",
        "    b = b.strip().split(' ')\n",
        "    img = cv2.rectangle(img, (int(b[1]), h - int(b[2])), (int(b[3]), h - int(b[4])), (0, 255, 0), 2)\n",
        "\n",
        "cv2.imshow(\"CHARACTERIZED IMAGE\", img)\n",
        "cv2.waitKey(0)\n",
        "cv2.destroyAllWindows()"
      ]
    },
    {
      "cell_type": "markdown",
      "id": "594cfd83",
      "metadata": {
        "id": "594cfd83"
      },
      "source": [
        "<u>\n",
        "    <h4>Get verbose data including boxes, confidences, line and page numbers</h4>\n",
        "</u>"
      ]
    },
    {
      "cell_type": "code",
      "execution_count": null,
      "id": "76da99c3",
      "metadata": {
        "id": "76da99c3"
      },
      "outputs": [],
      "source": [
        "image_path = test_image_files[2]\n",
        "path = create_path(image_path)\n",
        "\n",
        "image = Image.open(path)\n",
        "text = pt.image_to_data(image)\n",
        "\n",
        "print(text)\n",
        "show_image(path)"
      ]
    },
    {
      "cell_type": "markdown",
      "id": "53d1f74a",
      "metadata": {
        "id": "53d1f74a"
      },
      "source": [
        "<u>\n",
        "    <h4>Get information about orientation and script detection</h4>\n",
        "</u>"
      ]
    },
    {
      "cell_type": "code",
      "execution_count": null,
      "id": "7d9952ae",
      "metadata": {
        "id": "7d9952ae"
      },
      "outputs": [],
      "source": [
        "image_path = \"hindi-text-1.jpg\" # news-2.jpg hindi-news-1.jpg hindi-news-2.jpg hindi-text-1.jpg\n",
        "path = create_path(image_path)\n",
        "\n",
        "print(pt.image_to_osd(path, lang='hin'))"
      ]
    },
    {
      "cell_type": "markdown",
      "id": "7077208b",
      "metadata": {
        "id": "7077208b"
      },
      "source": [
        "<u>\n",
        "    <h4>Convert in to different file formats (PDF, XML, HOCR)</h4>\n",
        "</u>"
      ]
    },
    {
      "cell_type": "code",
      "execution_count": null,
      "id": "74b0116a",
      "metadata": {
        "id": "74b0116a"
      },
      "outputs": [],
      "source": [
        "image_path = \"news-2.jpg\"\n",
        "path = create_path(image_path)\n",
        "file_save_path = \"../files/\""
      ]
    },
    {
      "cell_type": "code",
      "execution_count": null,
      "id": "e8e8f68c",
      "metadata": {
        "id": "e8e8f68c"
      },
      "outputs": [],
      "source": [
        "pdf = pt.image_to_pdf_or_hocr(path, extension='pdf')\n",
        "\n",
        "file = open(os.path.join(file_save_path, \"pdf-content.pdf\"), 'w+b')\n",
        "file.write(pdf)\n",
        "file.close()"
      ]
    },
    {
      "cell_type": "code",
      "execution_count": null,
      "id": "90f7d502",
      "metadata": {
        "id": "90f7d502"
      },
      "outputs": [],
      "source": [
        "# hocr: open standard of data representation for formatted text obtained from (OCR)\n",
        "hocr = pt.image_to_pdf_or_hocr(path, extension='hocr')\n",
        "\n",
        "file = open(os.path.join(file_save_path, \"hocr-content.html\"), 'w+b')\n",
        "file.write(hocr)\n",
        "file.close()"
      ]
    },
    {
      "cell_type": "code",
      "execution_count": null,
      "id": "6e165752",
      "metadata": {
        "id": "6e165752"
      },
      "outputs": [],
      "source": [
        "xml = pt.image_to_alto_xml(path)\n",
        "\n",
        "file = open(os.path.join(file_save_path, \"xml-content.xml\"), 'w+b')\n",
        "file.write(xml)\n",
        "file.close()"
      ]
    },
    {
      "cell_type": "markdown",
      "id": "2b2ebff7",
      "metadata": {
        "id": "2b2ebff7"
      },
      "source": [
        "<u>\n",
        "    <h4>Forcefully assigning different assumptions (Custom Configurations)</h4>\n",
        "</u>"
      ]
    },
    {
      "cell_type": "markdown",
      "id": "25fa3458",
      "metadata": {
        "id": "25fa3458"
      },
      "source": [
        "<b>OEM</b> : OCR Engine Mode (Type of the algorithm used by tesseract)<br>\n",
        "<b>PEM</b> : Page Segmentation Mode (Page semgentation mode used by tesseract)<br><br>\n",
        " \n",
        "<h4>Page Segmentation Modes</h4><hr>\n",
        "<div style=\"font-size:13px;\">\n",
        "\n",
        "    \n",
        "0 - Orientation and script detection(OSD) only.<br>\n",
        "1 - Automatic page segmentation with OSD.<br>\n",
        "2 - Automatic page segmentation, but no OSD, or OCR.<br>\n",
        "3 - Fully automatic page segmentation, but no OSD.(Default)<br>\n",
        "4 - Assume a single column of text of variable sizes.<br>\n",
        "5 - Assume a single uniform block of vertically aligned text.<br>\n",
        "6 - Assume a single uniform block of text.<br>\n",
        "7 - Treat the image as a single text line.<br>\n",
        "8 - Treat the image as a single word.<br>\n",
        "9 - Treat the image as a single word in a circle.<br>\n",
        "10 - Treat the image as a single character.<br>\n",
        "11 - Sparse text.Find as much text as possible in no particular order.<br>\n",
        "12 - Sparse text with OSD.<br>\n",
        "13 - Raw line.Treat the image as a single text line, bypassing hacks that are Tesseract - specific.<br>\n",
        "</div>"
      ]
    },
    {
      "cell_type": "code",
      "execution_count": null,
      "id": "8302d4fe",
      "metadata": {
        "id": "8302d4fe"
      },
      "outputs": [],
      "source": [
        "image_path = \"abc-text.jpg\"\n",
        "path = create_path(image_path)\n",
        "custom_oem_psm_config = r'--oem 3 --psm 9'\n",
        "\n",
        "image = Image.open(path)\n",
        "pt.image_to_string(image, config=custom_oem_psm_config)"
      ]
    },
    {
      "cell_type": "markdown",
      "id": "ff1702e3",
      "metadata": {
        "id": "ff1702e3"
      },
      "source": [
        "<h4>References</h4><hr>\n",
        "\n",
        "<ul>\n",
        "    <li><a href='https://github.com/tesseract-ocr/tesseract'>Tesseract</a></li>\n",
        "    <li><a href='https://github.com/madmaze/pytesseract'>Pytesseract</a></li>\n",
        "    <li><a href='https://www.py4u.net/discuss/10850'>Multiple config options</a></li>\n",
        "    <li><a href='https://stackoverflow.com/questions/20831612/getting-the-bounding-box-of-the-recognized-words-using-python-tesseract'>Getting bounding box cordinates</a></li>\n",
        "</ul>"
      ]
    },
    {
      "cell_type": "code",
      "execution_count": null,
      "id": "cd940333",
      "metadata": {
        "id": "cd940333"
      },
      "outputs": [],
      "source": []
    }
  ],
  "metadata": {
    "colab": {
      "name": "Image Text Extraction - Pytesseract.ipynb",
      "provenance": []
    },
    "kernelspec": {
      "display_name": "Python 3 (ipykernel)",
      "language": "python",
      "name": "python3"
    },
    "language_info": {
      "codemirror_mode": {
        "name": "ipython",
        "version": 3
      },
      "file_extension": ".py",
      "mimetype": "text/x-python",
      "name": "python",
      "nbconvert_exporter": "python",
      "pygments_lexer": "ipython3",
      "version": "3.8.10"
    }
  },
  "nbformat": 4,
  "nbformat_minor": 5
}
